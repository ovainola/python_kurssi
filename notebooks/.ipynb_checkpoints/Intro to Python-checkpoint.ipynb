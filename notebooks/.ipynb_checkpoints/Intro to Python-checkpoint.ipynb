{
 "cells": [
  {
   "cell_type": "markdown",
   "metadata": {},
   "source": [
    "# Python matskua\n",
    "\n",
    "Tämän materiaalin tavoitteena on antaa perusteet python kielestä ja valmiudet jatkaa monimutkaisempien ohjelmien tekemiseen. Tässä notebookissa osassa 1. käydään lävitse ensiksi pythonin datatyyppejä, ominaisuuksia ja syntax:ia: \n",
    "\n",
    "* Osa 1\n",
    "    * Datatyypit\n",
    "        * Numerot, sequence, mapping + Muut\n",
    "    * Operaatiot ja operaattorit\n",
    "        * +, -, /, %, *, **, ...\n",
    "        * Lista, string ja dictionary operaatiot\n",
    "        \n",
    "Osassa 2. käydään lävitse funktioita ja control flow -palikoit:\n",
    "\n",
    "* Osa 2\n",
    "    * Funktiot\n",
    "        * \"Normaalit\" ja lambda funktiot\n",
    "    * Kirjastot\n",
    "        * os, sys, numpy, scipy, ...\n",
    "    * Control flow\n",
    "        * while + for loopit sekä if-else rakenteet\n",
    "\n",
    "Viimeisessä osiossa virheenkäsittely, tiedoston lukua ja olioita\n",
    "\n",
    "* Osa 3\n",
    "    * Virheenkäsittely\n",
    "        * try + except\n",
    "    * File IO\n",
    "        * Tiedostojen kirjoittaminen sekä lukeminen\n",
    "    * Oliot\n",
    "        * Olion rakenne ja perintä\n",
    "\n",
    "Materiaalin lopuksi on \"Muut\" -osio, jossa on tyyliseikkoja sekä hieman monimutkaisempia ominaisuuksia."
   ]
  },
  {
   "cell_type": "markdown",
   "metadata": {},
   "source": [
    "# Osa 1:\n",
    "## Datatyypit\n",
    "\n",
    "Pythonista löytyy karkeasti kahdenlaisia datatyyppejä: numeroita (int, float, complex, boolean) ja sanoja (strings). Jotta näitä datatyyppejä voisi käyttää tehokkaasti, esitellään myös datacontainerit (list, tuple, dict). Operaatiot, joilla voi muokata ja manipuloida datatyyppejä, esitellään taulukkomuotoisesti eri esimerkein. \n",
    "\n",
    "Referenssiä: \n",
    "\n",
    "https://docs.python.org/2/library/stdtypes.html"
   ]
  },
  {
   "cell_type": "code",
   "execution_count": 1,
   "metadata": {
    "collapsed": true
   },
   "outputs": [],
   "source": [
    "# Kommentit aloitetaan hash:illä\n",
    "\n",
    "## Numerot\n",
    "# Integer (Kokonaisluvut) \n",
    "int_1 = 1\n",
    "int_2 = 2\n",
    "\n",
    "# Float (Desimaaliluvut)\n",
    "float_1 = 1.0\n",
    "float_2 = .91487\n",
    "float_3 = 1.0e-3\n",
    "\n",
    "# Complex (Kompleksiluvut)\n",
    "comp_1 = 1.0 + 4j\n",
    "comp_2 = 15j\n",
    "\n",
    "# Bool (Boolean)\n",
    "bool_1 = True\n",
    "bool_2 = False\n",
    "bool_3 = 0\n",
    "bool_4 = 1"
   ]
  },
  {
   "cell_type": "code",
   "execution_count": null,
   "metadata": {
    "collapsed": true
   },
   "outputs": [],
   "source": []
  },
  {
   "cell_type": "code",
   "execution_count": 2,
   "metadata": {
    "collapsed": true
   },
   "outputs": [],
   "source": [
    "# String (Lauseet ja sanat)\n",
    "sana_1 = \"Sana voidaan määritellä kaksoishipsuilla\" # shift + 2\n",
    "sana_2 = 'mutta myös yksöishipsut käyvät' # Jos on suomalainen näppäimistö, niin löytyy \"ä\" merkin oikealta puolelta\n",
    "sana_3 = \"\"\"sanan voi myös \n",
    "kolmen hipsun avulla tehdä\n",
    "monelle riville\"\"\""
   ]
  },
  {
   "cell_type": "code",
   "execution_count": null,
   "metadata": {
    "collapsed": true
   },
   "outputs": [],
   "source": []
  },
  {
   "cell_type": "code",
   "execution_count": 3,
   "metadata": {
    "collapsed": false
   },
   "outputs": [],
   "source": [
    "# list (Listat)\n",
    "lista_numeroita = [1, 2, 3]\n",
    "lista_stringeja = [\"a\", \"b\", \"caeafaef\", \"efagha\"]\n",
    "lista_listoja   = [lista_numeroita, lista_stringeja]\n",
    "\n",
    "# tuple (Parit)\n",
    "tuple_1       = (1,2,3)\n",
    "tuple_2       = (\"sana\", \"toinen\", 1)\n",
    "tuple_tupleja = (tuple_1, tuple_2)\n",
    "\n",
    "# Dict (Luettelo)\n",
    "my_dict = {\"avain\": 1,\n",
    "           \"toinen avain\": 2,\n",
    "           \"etunimi\": \"Olli\"}\n",
    "\n",
    "# Set (Setti), käytännössä mahdollistaa boolean algebran datajoukoille\n",
    "# https://en.wikipedia.org/wiki/Boolean_algebra"
   ]
  },
  {
   "cell_type": "code",
   "execution_count": null,
   "metadata": {
    "collapsed": true
   },
   "outputs": [],
   "source": []
  },
  {
   "cell_type": "markdown",
   "metadata": {},
   "source": [
    "### Datatyyppien operaatiot"
   ]
  },
  {
   "cell_type": "markdown",
   "metadata": {},
   "source": [
    "Pythonissa olevat operaatiot. Esimerkin vuoksi määritellään pari muuttujaa:\n",
    "\n",
    "- a = 10\n",
    "- b = 7\n",
    "- c = 12.\n",
    "- d = \"bird\"\n",
    "- e = \"word\"\n",
    "- f = True\n",
    "- g = False\n",
    "\n",
    "|Syntax| operaatio     | Perus esim. | Perus esim. tulos | Esim. 2. | Esim. 2. tulos |\n",
    "|------|---------------|---------|---------------|---------|---------------|\n",
    "|   +  |    summa      |  a + b  |      17       |  d + e  |  'birdword'   |\n",
    "|   -  |   vähennys    |  a - b  |       3       |  d - e  |  Error        |\n",
    "|   /  |  jakolasku    |  a / b  |       1       |  c / b  |  1.71428571428 |  \n",
    "|   *  | kertolasku    |   a * b |       70      |   d * b | 'testtesttesttesttesttesttest' |\n",
    "|   ** |   potenssi    |  a ** b |    10000000   |  d ** b |  Error|\n",
    "|   %  | jakojäännös   |  a % b  |        3      |  d % b  | Error |\n",
    "|  ==  |  yhtä suuri   | a == b  |     False     | d == e  | False |  \n",
    "|  !=  |  eri suuri    | a != b  |     True      | f != g  |  True |\n",
    "|  <   | pienempi kuin |  a < b  |      False    | d  < e  | True  |\n",
    "|  >   | suurempi kuin |  a > b  |      True     | d  > e  | False  |\n",
    "|  <=  |  pienempi tai yhtäsuuri kuin    |  c <= a |    False      | f <= g  | False  |\n",
    "|  >=  | suurempi tai yhtäsuuri kuin    |  c >= b |     True      | d  >= g | True   | \n",
    "|  and | looginen ja   | f and g |    False      | a or b  | 10     |\n",
    "|  or  | looginen tai  | f or g  |    True       | a or d  | 10     |\n",
    "|  not | looginen ei   | not g   |     True      | not a   | False  |\n"
   ]
  },
  {
   "cell_type": "code",
   "execution_count": 4,
   "metadata": {
    "collapsed": true
   },
   "outputs": [],
   "source": [
    "# Vielä muunnokset: stringin voi muuttaa float:iksi tai int:iksi ja vastaavasti toisinpäin\n",
    "\n",
    "int_string = \"1\"\n",
    "int_list = [1,2,3]\n",
    "\n",
    "int_from_string = int(int_string)\n",
    "float_from_string = float(int_string)\n",
    "\n",
    "string_from_int = str(int_from_string)\n",
    "string_from_float = str(float_from_string)\n",
    "string_from_list = str(int_list)\n",
    "\n",
    "int_to_character = chr(100)"
   ]
  },
  {
   "cell_type": "markdown",
   "metadata": {},
   "source": [
    "## Lista operaatiot\n",
    "\n",
    "Yleisimmät komennot, joita tarvitsee listojen kanssa, esim:\n",
    "\n",
    "        append, extend, pop, insert, sort, len\n",
    "\n",
    "Muita komentoja voi etsiä dir komennolla, esim. dir(list)\n"
   ]
  },
  {
   "cell_type": "code",
   "execution_count": 5,
   "metadata": {
    "collapsed": true
   },
   "outputs": [],
   "source": [
    "# luodaan listoja\n",
    "lista_numeroita = [1,2,3,4,5,6,7,8]\n",
    "lista_stringeja = [\"a\", \"b\", \"caeafaef\", \"efagha\"]\n",
    "lista_listoja = [lista_numeroita, lista_stringeja]\n",
    "pitka_lista = range(100)       # lista [0, 1, 2,...,98, 99]\n",
    "lyhyempi_lista = range(50, 71) # lista [50, 51, 52,...,68, 69, 70]"
   ]
  },
  {
   "cell_type": "code",
   "execution_count": null,
   "metadata": {
    "collapsed": true
   },
   "outputs": [],
   "source": []
  },
  {
   "cell_type": "code",
   "execution_count": 6,
   "metadata": {
    "collapsed": false
   },
   "outputs": [],
   "source": [
    "# Poimitaan listasta alkioita\n",
    "# Indeksointi alkaa numerosta 0\n",
    "eka_alkio = lista_numeroita[0]             # eka_alkio = 1\n",
    "toinen_alkio = lista_numeroita[1]          # eka_alkio = 2\n",
    "\n",
    "# Miinusmerkkisillä indekseillä lähdetään listan lopusta liikkeelle\n",
    "viimeinen_alkio = lista_numeroita[-1]      # viimeinen_alkio = 3\n",
    "jalleen_eka_alkio = lista_numeroita[-3]    # jalleen_eka_alkio = 1\n",
    "\n",
    "# Otetaan viipale (slice) listasta\n",
    "ekat_kymmenen_numeroa = pitka_lista[:10]              # ekat_kymmenen_numeroa = [0,1,2,3,4,5,6,7,8,9]\n",
    "numerot_kympista_kahteenkymppiin = pitka_lista[10:20] # numerot_kympista_kahteenkymppiin = [10, 11, 12, 13, 14, 15, 16, 17, 18, 19]\n",
    "joka_toinen_numero = pitka_lista[10:20:2]"
   ]
  },
  {
   "cell_type": "code",
   "execution_count": 7,
   "metadata": {
    "collapsed": false
   },
   "outputs": [
    {
     "data": {
      "text/plain": [
       "[99, 94, 89, 84, 79, 74, 69, 64, 59, 54]"
      ]
     },
     "execution_count": 7,
     "metadata": {},
     "output_type": "execute_result"
    }
   ],
   "source": [
    "pitka_lista[-1:50:-5]"
   ]
  },
  {
   "cell_type": "code",
   "execution_count": 8,
   "metadata": {
    "collapsed": true
   },
   "outputs": [],
   "source": [
    "# Luodaan tyhjä lista ja lisätään siihen numeroita\n",
    "empty = []\n",
    "\n",
    "empty.append(1)\n",
    "empty.append(2)\n",
    "empty.append(3)\n",
    "\n",
    "# Lisätään listan lista_numeroita kaikki alkiot empty listaan\n",
    "empty.extend(lista_numeroita)\n",
    "\n",
    "# Järjestellään alkio\n",
    "empty.sort()\n",
    "\n",
    "# tiputetaan viimeinen alkio pois\n",
    "empty.pop()\n",
    "\n",
    "# Poitetaan tietty indeksi\n",
    "del empty[1]\n",
    "\n",
    "# Lisätään tietylle indeksi paikalla arvo\n",
    "empty.insert(1, 15)\n",
    "\n",
    "# Listan pituus\n",
    "pituus = len(empty) # pituuden arvo tällä hetkellä 10"
   ]
  },
  {
   "cell_type": "code",
   "execution_count": null,
   "metadata": {
    "collapsed": true
   },
   "outputs": [],
   "source": []
  },
  {
   "cell_type": "code",
   "execution_count": 9,
   "metadata": {
    "collapsed": false
   },
   "outputs": [],
   "source": [
    "# esimerkkinä, kuinka luoda esim. jännitystensori\n",
    "# Hox, lista listoja\n",
    "stress_tensor = [[1.0,   0.0, 9.23],\n",
    "                 [0.0, -15.0,  0.0],\n",
    "                 [9.23,  0.0,  0.0]]\n",
    "\n",
    "# Luodaan stress historia\n",
    "stress_hist = [stress_tensor, stress_tensor]"
   ]
  },
  {
   "cell_type": "code",
   "execution_count": null,
   "metadata": {
    "collapsed": true
   },
   "outputs": [],
   "source": []
  },
  {
   "cell_type": "markdown",
   "metadata": {},
   "source": [
    "## String operaatiot\n",
    "\n",
    "\n",
    "Yleisimmät komennot, joita tarvitsee string:ien kanssa, esim:\n",
    "\n",
    "        strip, split, lower, upper, len, replace\n",
    "\n",
    "Muita komentoja voi etsiä dir komennolla, esim. dir(str).  Samalla esitellään kaksi eri tyyliä print:tata pythonissa: % -merkillä sekä format komennolla"
   ]
  },
  {
   "cell_type": "code",
   "execution_count": 10,
   "metadata": {
    "collapsed": false
   },
   "outputs": [
    {
     "name": "stdout",
     "output_type": "stream",
     "text": [
      "Word without any leading spaces: tÄmä on ,kai tar,peek,si; output SANA kai==ken kaikkiaan\n"
     ]
    }
   ],
   "source": [
    "# Luodaan uusi sana\n",
    "sana = \"   tÄmä on ,kai tar,peek,si; output SANA kai==ken kaikkiaan\"\n",
    "\n",
    "# Poistetaan sanan edestä tyhjät välimerkit\n",
    "stripped = sana.strip()\n",
    "print(\"Word without any leading spaces: %s\" % stripped)"
   ]
  },
  {
   "cell_type": "code",
   "execution_count": null,
   "metadata": {
    "collapsed": true
   },
   "outputs": [],
   "source": []
  },
  {
   "cell_type": "code",
   "execution_count": 11,
   "metadata": {
    "collapsed": false
   },
   "outputs": [
    {
     "name": "stdout",
     "output_type": "stream",
     "text": [
      "Splitted word : ['t\\xc3\\x84m\\xc3\\xa4', 'on', ',kai', 'tar,peek,si;', 'output', 'SANA', 'kai==ken', 'kaikkiaan']\n"
     ]
    }
   ],
   "source": [
    "# Pilkotaan sana tyhjien välimerkkien kohdalta\n",
    "splitted = sana.split()\n",
    "print(\"Splitted word : %s\" % splitted)"
   ]
  },
  {
   "cell_type": "code",
   "execution_count": null,
   "metadata": {
    "collapsed": true
   },
   "outputs": [],
   "source": []
  },
  {
   "cell_type": "code",
   "execution_count": 12,
   "metadata": {
    "collapsed": false
   },
   "outputs": [
    {
     "name": "stdout",
     "output_type": "stream",
     "text": [
      "Comma splitted word: ['   t\\xc3\\x84m\\xc3\\xa4 on ', 'kai tar', 'peek', 'si; output SANA kai==ken kaikkiaan']\n"
     ]
    }
   ],
   "source": [
    "# Pilkotaan sana pilkkujen kohdalta\n",
    "comma_splitted = sana.split(\",\")\n",
    "print_comma_word = \"Comma splitted word: %s\" % comma_splitted\n",
    "print(print_comma_word)"
   ]
  },
  {
   "cell_type": "code",
   "execution_count": null,
   "metadata": {
    "collapsed": true
   },
   "outputs": [],
   "source": []
  },
  {
   "cell_type": "code",
   "execution_count": 13,
   "metadata": {
    "collapsed": false
   },
   "outputs": [
    {
     "name": "stdout",
     "output_type": "stream",
     "text": [
      "Word as lowercase:    tÄmä on ,kai tar,peek,si; output sana kai==ken kaikkiaan\n"
     ]
    }
   ],
   "source": [
    "# Poistetaan sanan edestä tyhjät välimerkit\n",
    "lower_word = sana.lower()\n",
    "print_word = \"Word as lowercase: {0}\".format(lower_word) \n",
    "print(print_word)"
   ]
  },
  {
   "cell_type": "code",
   "execution_count": null,
   "metadata": {
    "collapsed": true
   },
   "outputs": [],
   "source": []
  },
  {
   "cell_type": "code",
   "execution_count": 14,
   "metadata": {
    "collapsed": false
   },
   "outputs": [
    {
     "name": "stdout",
     "output_type": "stream",
     "text": [
      "Word as uppercase:    TÄMä ON ,KAI TAR,PEEK,SI; OUTPUT SANA KAI==KEN KAIKKIAAN\n"
     ]
    }
   ],
   "source": [
    "# Poistetaan sanan edestä tyhjät välimerkit\n",
    "upper_word = sana.upper()\n",
    "print(\"Word as uppercase: {0}\".format(upper_word))"
   ]
  },
  {
   "cell_type": "code",
   "execution_count": null,
   "metadata": {
    "collapsed": true
   },
   "outputs": [],
   "source": []
  },
  {
   "cell_type": "code",
   "execution_count": 15,
   "metadata": {
    "collapsed": false
   },
   "outputs": [
    {
     "name": "stdout",
     "output_type": "stream",
     "text": [
      "Replaced:    tÄmä on , tar,peek,si; output SANA ==ken kkiaan\n"
     ]
    }
   ],
   "source": [
    "# Poistetaan kaikki \"kai\" sanat\n",
    "replaced_word = sana.replace(\"kai\", \"\")\n",
    "print(\"Replaced: {0}\".format(replaced_word))"
   ]
  },
  {
   "cell_type": "code",
   "execution_count": null,
   "metadata": {
    "collapsed": true
   },
   "outputs": [],
   "source": []
  },
  {
   "cell_type": "code",
   "execution_count": 16,
   "metadata": {
    "collapsed": false
   },
   "outputs": [
    {
     "name": "stdout",
     "output_type": "stream",
     "text": [
      "Length of the word: 61\n"
     ]
    }
   ],
   "source": [
    "# Sanan pituus\n",
    "sana_pituus = len(sana)\n",
    "print(\"Length of the word: %i\" % sana_pituus)"
   ]
  },
  {
   "cell_type": "code",
   "execution_count": null,
   "metadata": {
    "collapsed": true
   },
   "outputs": [],
   "source": []
  },
  {
   "cell_type": "code",
   "execution_count": 17,
   "metadata": {
    "collapsed": false
   },
   "outputs": [
    {
     "name": "stdout",
     "output_type": "stream",
     "text": [
      "Lets +|   tÄmä on |+ print +|si; output SANA kai==ken kaikkiaan|+ somemore\n"
     ]
    }
   ],
   "source": [
    "# Viedään printtiä vähän pidemmälle\n",
    "comma_splitted = sana.split(\",\")\n",
    "print(\"Lets +|%s|+ print +|%s|+ somemore\" % (comma_splitted[0], comma_splitted[-1]))"
   ]
  },
  {
   "cell_type": "code",
   "execution_count": null,
   "metadata": {
    "collapsed": true
   },
   "outputs": [],
   "source": []
  },
  {
   "cell_type": "code",
   "execution_count": 18,
   "metadata": {
    "collapsed": false
   },
   "outputs": [
    {
     "name": "stdout",
     "output_type": "stream",
     "text": [
      "Splitted word : tÄmä,tar,peek,si;,kai==ken\n"
     ]
    }
   ],
   "source": [
    "splitted = sana.split()\n",
    "joka_kolmas = splitted[0:-1:3]\n",
    "takaisin_sanaksi = \",\".join(joka_kolmas)\n",
    "print(\"Splitted word : %s\" % takaisin_sanaksi)"
   ]
  },
  {
   "cell_type": "code",
   "execution_count": null,
   "metadata": {
    "collapsed": true
   },
   "outputs": [],
   "source": []
  },
  {
   "cell_type": "markdown",
   "metadata": {},
   "source": [
    "## Dict operaatiot\n",
    "\n",
    "Yleisimmät komennot, joita tarvitsee dict:ien kanssa, esim:\n",
    "\n",
    "        keys, values, has_key, items\n",
    "\n",
    "Muita komentoja voi etsiä dir komennolla, esim. dir(dict)"
   ]
  },
  {
   "cell_type": "code",
   "execution_count": 19,
   "metadata": {
    "collapsed": false
   },
   "outputs": [],
   "source": [
    "# Luodaan kaksi dictionary:ä\n",
    "full_dict = {\"param1\": 1,\n",
    "             \"param2\":  \"jotain muuta\"}\n",
    "empty_dict = {}\n",
    "\n",
    "# Lisätään tyhjään arvoja\n",
    "empty_dict[\"test\"] = 1\n",
    "empty_dict[\"param 15\"] = 15\n",
    "\n",
    "# Otetaan arvo dictistä\n",
    "value_test = empty_dict[\"test\"]\n",
    "\n",
    "# Opetaan kaikki arvot tuplena ulos dictistä\n",
    "tuple_vals = empty_dict.items()"
   ]
  },
  {
   "cell_type": "code",
   "execution_count": null,
   "metadata": {
    "collapsed": true
   },
   "outputs": [],
   "source": []
  },
  {
   "cell_type": "code",
   "execution_count": 20,
   "metadata": {
    "collapsed": false
   },
   "outputs": [],
   "source": [
    "# Valitaan kaikki avaimet full dict:istä\n",
    "full_keys = full_dict.keys()\n",
    "\n",
    "# Valitaan kaikki avaimet full dict:istä\n",
    "full_vals = full_dict.values()\n",
    "\n",
    "# Tarkistetaan onko dict:ssä avainta\n",
    "has_key = empty_dict.has_key(\"param 15\")\n",
    "\n",
    "# Poistetaan tietty avain-arvo pari\n",
    "full_dict.pop(\"param1\")\n",
    "\n",
    "# Myös dict:in pituuden saa samalla len -komennolla\n",
    "dict_pituus = len(empty_dict)"
   ]
  },
  {
   "cell_type": "code",
   "execution_count": null,
   "metadata": {
    "collapsed": true
   },
   "outputs": [],
   "source": []
  },
  {
   "cell_type": "markdown",
   "metadata": {},
   "source": [
    "# Tehtäviä\n",
    "## Numero tehtävät\n",
    "\n",
    "Laske seuraavat laskutoimitukset:\n",
    "\n",
    "$n_1 = x_1 + x_2 - 50$ (kokonaislukuna)\n",
    "\n",
    "$n_2 = mod((x_4^2 - x_1) \\cdot x_2, n_1)$ | mod = jakojäännös\n",
    "\n",
    "$n_3 = \\frac{x_3}{x_4}$ (desimaalilukuna)"
   ]
  },
  {
   "cell_type": "code",
   "execution_count": 21,
   "metadata": {
    "collapsed": false
   },
   "outputs": [],
   "source": [
    "x_1 = 94.2\n",
    "x_2 = 0.634\n",
    "x_3 = 10\n",
    "x_4 = -14\n",
    "x_5 = 1 - 2j\n",
    "\n",
    "\n",
    "\n",
    "\n",
    "# Vastaukset\n",
    "# n_1 = 44\n",
    "# n_2 = 20.541200000000003\n",
    "# n_3 = -0.7142857142857143"
   ]
  },
  {
   "cell_type": "markdown",
   "metadata": {},
   "source": [
    "## String, lista ja Dict tehtävät\n",
    "\n",
    "Käytössäsi on sana: word = \"here,is,only,one,76,number,in,this,sentence\"\n",
    "\n",
    "Muuta kaikki isoiksi kirjaimiksi, pilko sana pilkkujen kohdalta, poimi sanasta numero ja poista se listasta sekä suorita laskutoimitus\n",
    "\n",
    "$B = n ^ 3 > 438975$, missä n on poimittu numero\n",
    "\n",
    "Muuta jäljelle jäänyt lista takaisin yhdeksi sanaksi, lopputulos: wordfinal = \"HEREISONLYONENUMBERINTHISSENTENCE\""
   ]
  },
  {
   "cell_type": "code",
   "execution_count": 22,
   "metadata": {
    "collapsed": false
   },
   "outputs": [],
   "source": [
    "word = \"here,is,only,one,76,number,in,this,sentence\"\n",
    "\n",
    "\n",
    "# Vastaukset\n",
    "# B = True\n",
    "# wordfinal = 'HEREISONLYONENUMBERINTHISSENTENCE'"
   ]
  },
  {
   "cell_type": "markdown",
   "metadata": {},
   "source": [
    "Käytössäsi on lista:\n",
    "\n",
    "$a = [1,2,3, ... , 1987]$\n",
    "\n",
    "Suorita seuraavat laskutoimitukset\n",
    "\n",
    "1. Summaa toiseksi ensimmäinen ja toiseksi viimeiset alkiot yhteen\n",
    "\n",
    "2. Summaa kymmenen ensimmäistä termi yhteen: $s_1 = sum(a[0] + a[2] + ... + a[10])$\n",
    "\n",
    "3. Summaa joka toinen termi yhteen: $s_2 = sum(a[0] + a[2] + ...)$\n",
    "\n",
    "4. Kuinka monta alkiota on jonossa, jossa on joka toinen termi listasta a?"
   ]
  },
  {
   "cell_type": "code",
   "execution_count": 23,
   "metadata": {
    "collapsed": false
   },
   "outputs": [],
   "source": [
    "a = range(1, 1988)\n"
   ]
  },
  {
   "cell_type": "markdown",
   "metadata": {},
   "source": [
    "Olet saanut käsiis Aava ravintolan maanantain ruokalista. Listaa on kuitenkin hankala lukea, ja haluaisit saada jotain perusinfoa. Laske seuraavat operaatiot:\n",
    "\n",
    "1. Montako eri lounas vaihtoehtoa on tarjolla maanantaina\n",
    "\n",
    "2. Valitse \"Grilliannos I\". Montako eri aines osaa on lounaassa (meals)?\n",
    "\n",
    "3. Lisää yksi uusi ome lounas \"SetMenus\" listaan."
   ]
  },
  {
   "cell_type": "code",
   "execution_count": 24,
   "metadata": {
    "collapsed": true
   },
   "outputs": [],
   "source": [
    "Aava_ravintolan_menu = {\n",
    "    \"WeekNumber\": 15,\n",
    "    \"LunchMenus\": \n",
    "        {\n",
    "            \"DayOfWeek\": \"Maanantai\",\n",
    "            \"Date\": \"11.4.2016\",\n",
    "            \"SetMenus\": [{\n",
    "                \"SortOrder\": 0,\n",
    "                \"Name\": \"Lounas I\",\n",
    "                \"Price\": \"2,60 €/ 5,80 €/ 7,60 €\",\n",
    "                \"Meals\": [\n",
    "                    {\n",
    "                        \"Name\": \"Rukiisia silakoita\",\n",
    "                        \"RecipeId\": 511,\n",
    "                        \"Diets\": [ \"*\", \"A\", \"L\"]\n",
    "                    },\n",
    "                    {\n",
    "                        \"Name\": \"Tilliperunoita\",\n",
    "                        \"RecipeId\": 67,\n",
    "                        \"Diets\": [\"*\", \"G\", \"L\", \"M\"]\n",
    "                    }\n",
    "                ]\n",
    "            },\n",
    "            {\n",
    "                \"SortOrder\": 0,\n",
    "                \"Name\": \"Lounas II\",\n",
    "                \"Price\": \"2,60 €/ 5,80 €/ 7,60 €\",\n",
    "                \"Meals\": [\n",
    "                    {\n",
    "                        \"Name\": \"Viherpippuriporsasta\",\n",
    "                        \"RecipeId\": 10486,\n",
    "                        \"Diets\": [ \"*\", \"A\", \"L\" ]\n",
    "                    },\n",
    "                    {\n",
    "                        \"Name\": \"Höyrytettyä tummaa riisiä\",\n",
    "                        \"RecipeId\": 90,\n",
    "                        \"Diets\": [ \"*\", \"G\", \"L\", \"M\", \"Veg\"]\n",
    "                    }\n",
    "                ]\n",
    "            },\n",
    "            {\n",
    "                \"SortOrder\": 0,\n",
    "                \"Name\": \"Kasvislounas\",\n",
    "                \"Price\": \"2,60 €/ 5,80 €/ 7,60 €\",\n",
    "                \"Meals\": [\n",
    "                    {\n",
    "                        \"Name\": \"Luomutofu-kasviscurrya\",\n",
    "                        \"RecipeId\": 7088,\n",
    "                        \"Diets\": [ \"*\",  \"A\", \"G\", \"L\", \"M\",  \"Veg\"]\n",
    "                    }\n",
    "                ]\n",
    "            },\n",
    "            {\n",
    "                \"SortOrder\": 0,\n",
    "                \"Name\": \"Kevyt lounas\",\n",
    "                \"Price\": \"2,25 €/ 4,50 €/ 6,30 €\",\n",
    "                \"Meals\": [\n",
    "                    {\n",
    "                        \"Name\": \"Kasvisgulassikeittoa\",\n",
    "                        \"RecipeId\": 4088,\n",
    "                        \"Diets\": [ \"*\", \"G\", \"L\", \"M\", \"Veg\", \"VS\"]\n",
    "                    }\n",
    "                ]\n",
    "            },\n",
    "            {\n",
    "                \"SortOrder\": 0,\n",
    "                \"Name\": \"Herkuttelijan lounas\",\n",
    "                \"Price\": \"4,85 €/ 7,40 €/ 9,60 €\",\n",
    "                \"Meals\": [\n",
    "                    {\n",
    "                        \"Name\": \"Turskaa ja kasviksia espanjalaisittain\",\n",
    "                        \"RecipeId\": 13697,\n",
    "                        \"Diets\": [\"A\", \"G\", \"L\", \"M\"]\n",
    "                    },\n",
    "                    {\n",
    "                        \"Name\": \"Sitruunakastiketta\",\n",
    "                        \"RecipeId\": 1560,\n",
    "                        \"Diets\": [\"*\", \"A\", \"L\"]\n",
    "                    },\n",
    "                    {\n",
    "                        \"Name\": \"Luomutäysjyväspagettia\",\n",
    "                        \"RecipeId\": 6017,\n",
    "                        \"Diets\": [\"*\", \"A\", \"L\", \"M\"]\n",
    "                    }\n",
    "                ]\n",
    "            },\n",
    "            {\n",
    "                \"SortOrder\": 0,\n",
    "                \"Name\": \"Grilliannos I\",\n",
    "                \"Price\": \"4,95 €/ 7,90 €/ 10,20 €\",\n",
    "                \"Meals\": [\n",
    "                    {\n",
    "                        \"Name\": \"Paistettu broilerinfileepihvi\",\n",
    "                        \"RecipeId\": 4084,\n",
    "                        \"Diets\": [\"G\",\"L\",\"M\"]\n",
    "                    },\n",
    "                    {\n",
    "                        \"Name\": \"Choronkastiketta\",\n",
    "                        \"RecipeId\": 5793,\n",
    "                        \"Diets\": [\"A\",\"G\"]\n",
    "                    },\n",
    "                    {\n",
    "                        \"Name\": \"Höyrytettyä tummaa riisiä\",\n",
    "                        \"RecipeId\": 90,\n",
    "                        \"Diets\": [\"*\",\"G\",\"L\",\"M\",\"Veg\"]\n",
    "                    },\n",
    "                    {\n",
    "                        \"Name\": \"Hunajajuureksia\",\n",
    "                        \"RecipeId\": 3125,\n",
    "                        \"Diets\": [\"G\",\"L\",\"M\"]\n",
    "                    }\n",
    "                ]\n",
    "            },\n",
    "            {\n",
    "                \"SortOrder\": 0,\n",
    "                \"Name\": \"Grilliannos II\",\n",
    "                \"Price\": \"4,95 €/ 7,90 €/ 10,20 €\",\n",
    "                \"Meals\": [\n",
    "                    {\n",
    "                        \"Name\": \"Porsaan grillipihvi\",\n",
    "                        \"RecipeId\": 592,\n",
    "                        \"Diets\": [ \"G\",\"L\",\"M\"]\n",
    "                    },\n",
    "                    {\n",
    "                        \"Name\": \"Sipuli-paprikalisäkettä\",\n",
    "                        \"RecipeId\": 1140,\n",
    "                        \"Diets\": [\"G\", \"L\", \"M\"]\n",
    "                    },\n",
    "                    {\n",
    "                        \"Name\": \"Lohkoperunoita\",\n",
    "                        \"RecipeId\": 872,\n",
    "                        \"Diets\": [\"G\", \"L\", \"M\"]\n",
    "                    }\n",
    "                ]\n",
    "            }\n",
    "        ]\n",
    "    }\n",
    "}\n",
    "\n",
    "\n",
    "# Vastaukset\n",
    "# 1. 7 vaihtoehtoa\n",
    "# 2. 4"
   ]
  },
  {
   "cell_type": "markdown",
   "metadata": {},
   "source": [
    "# Osa 2."
   ]
  },
  {
   "cell_type": "markdown",
   "metadata": {},
   "source": [
    "## Funktiot\n",
    "\n",
    "#### Huomioitavaa:\n",
    "\n",
    "- Funktio määrittely alkaa def -sanalla\n",
    "- def sanan jälkeen tulee funktion nimi\n",
    "- sulut, johon lisätään funktion argumentit\n",
    "- Loppuun kaksoispiste:\n",
    "- Pythonissa käytetään \"white space intentationia\" määrittelemään funktion sisälle kuuluvat osiot\n",
    "    - Joko \"tab\" tai 4 x space\n",
    "- Kirjoitetaan funktion sisälle tarvittavat määrittelyt, ja palautetaan return komennolla arvo\n",
    "\n",
    "#### Tyylijuttuja:\n",
    "- Funktio nimet yleensä pienellä\n",
    "- Docstringit on hyvä kirjoittaa, ei vain käyttäjälle vaan myös itselle nii voi lukasta mitä se tekee\n",
    "- Editorissa kannattaa määrittää, käyttääkö tabulator tab:eja vai 4 x space:a. Tästä voi tulla ongelmia, kun\n",
    "toinen käyttää toista ja toinen toista\n",
    "- Funktion olisi hyvä olla noin alle 100 riviä pitkä. Sellainen, että sen pystyy lukemaan yhdellä silmäyksellä\n",
    "- Docstring:\n",
    "    - Numpy style: http://sphinxcontrib-napoleon.readthedocs.org/en/latest/example_numpy.html\n",
    "    - Google style: http://sphinxcontrib-napoleon.readthedocs.org/en/latest/example_google.html"
   ]
  },
  {
   "cell_type": "code",
   "execution_count": 25,
   "metadata": {
    "collapsed": false
   },
   "outputs": [
    {
     "name": "stdout",
     "output_type": "stream",
     "text": [
      "Hello world\n"
     ]
    }
   ],
   "source": [
    "def test():\n",
    "    print(\"Hello world\")\n",
    "    return 0\n",
    "    \n",
    "zero = test()"
   ]
  },
  {
   "cell_type": "code",
   "execution_count": 26,
   "metadata": {
    "collapsed": false
   },
   "outputs": [],
   "source": [
    "def my_summa(a, b):\n",
    "    \"\"\" Tähän kohtaan kirjoitetaan funktiolle docstringit, joista käyttäjä voi lukea mitä funktio tekee.\n",
    "    Käyttäjä voi lukea docstringin käyttämällä help -funktiota, esim help(my_summa)\n",
    "    \"\"\"\n",
    "    return a * b\n",
    "\n",
    "value = my_summa(1,2)\n",
    "\n",
    "def split_and_lower(word, split_chr, idx):\n",
    "    \"\"\" Split given word, get the requested index and return as lowered\n",
    "    \n",
    "    Parameters\n",
    "    ----------\n",
    "    word: string\n",
    "        Input string\n",
    "    split_chr: string\n",
    "        String or character used for splitting the input string\n",
    "    idx: int\n",
    "        After splitting the word, idx used to get the value from list\n",
    "    \n",
    "    Returns\n",
    "    -------\n",
    "    String\n",
    "    \"\"\"\n",
    "    splitted = word.split(split_chr)\n",
    "    selected_word = splitted[idx]\n",
    "    return selected_word.lower()\n",
    "\n",
    "def keyword_args(a, multiply=5):\n",
    "    \"\"\" Funktio, jossa on keyword argumentti\n",
    "    \"\"\"\n",
    "    return a * multiply\n",
    "\n",
    "my_word = \"name: olli, age: 27, city: oulu\"\n",
    "my_name = split_and_lower(my_word, \",\", 0)\n",
    "\n",
    "multiply_olli = keyword_args(my_name)\n",
    "multiply_olli_twice = keyword_args(my_name, multiply=2)"
   ]
  },
  {
   "cell_type": "code",
   "execution_count": 27,
   "metadata": {
    "collapsed": false
   },
   "outputs": [
    {
     "data": {
      "text/plain": [
       "(4, 4)"
      ]
     },
     "execution_count": 27,
     "metadata": {},
     "output_type": "execute_result"
    }
   ],
   "source": [
    "# Lambda funktiot käyttäytyvät samalla tavalla kuin normaalit funktiot, mutta ne luodaan vain yhdellä rivillä\n",
    "# Luodaan kaksi funktiota, joilla on sama toiminnalisuus, mutta toinen on normaali funktio ja toinen lambda funktio\n",
    "def name_1(x):\n",
    "    return x ** 2\n",
    "\n",
    "name_2 = lambda x: x ** 2 \n",
    "\n",
    "\n",
    "def more_complex_func(a, b):\n",
    "    x = a + b\n",
    "    return x ** x, 2 * x\n",
    "\n",
    "more_complex_lambda = lambda a, b: ((a + b) ** (a + b), 2*(a + b))\n",
    "\n",
    "name_1(2), name_2(2)"
   ]
  },
  {
   "cell_type": "markdown",
   "metadata": {},
   "source": [
    "\n",
    "## Kirjastot\n",
    "\n",
    "\n",
    "Pythonin suola ja sokeri. Kirjastot ovat toisten ihmisten tekemiä python koodeja (Olioita, funktioita, jne..), joita jaetaan hyvin paljon ilmaiseksi esim. [github](https://www.github.com):in tai [bitbucket](https://bitbucket.org/) kautta. Esimerkki kirjastoja ovat esim:\n",
    "\n",
    "\n",
    "> * [Pythonin builtin](https://docs.python.org/2/library/) kirjastoja:\n",
    ">    * os:        Operation system kirjasto, voi tehdä bash/komentorivi kutsuja\n",
    ">    * sys:       System kirjasto\n",
    ">    * time:      Aika funktiot\n",
    ">    * math:      Perusmatematiikka kirjasto\n",
    "   \n",
    "> * OpenSource kirjastot:\n",
    ">    * [numpy](http://www.numpy.org/):      Optimoituja numeerisia funktioita ja työkaluja, esim. lineaari algebraan\n",
    ">    * [scipy](http://www.scipy.org/):      Lisää optimoituja numeerisia funktioita ja työkaluja, esim. funktion minimointiin tai nollakohdan hakemiseen\n",
    ">    * [matplotlib](http://http://matplotlib.org): Plot kirjasto kuvien generointiin\n",
    ">    * [Django](http://www.djangoproject.com):     Web framework\n",
    ">    * [PyQt](https://wiki.python.org/moin/PyQt): Qt ikkunointi järjestelmä\n",
    ">    * [Requests](http://www.python-requests.org/en/master/): Http kirjasto\n",
    "   \n",
    "Kirjastoja löytyy niin kuvankäsittelystä, koneoppimiseen ja webserverien tekemiseen."
   ]
  },
  {
   "cell_type": "code",
   "execution_count": 28,
   "metadata": {
    "collapsed": false
   },
   "outputs": [
    {
     "data": {
      "text/plain": [
       "array([[[  1.  ,   0.  ,   9.23],\n",
       "        [  0.  , -15.  ,   0.  ],\n",
       "        [  9.23,   0.  ,   0.  ]],\n",
       "\n",
       "       [[  2.  ,   1.  ,  10.23],\n",
       "        [  1.  , -14.  ,   1.  ],\n",
       "        [ 10.23,   1.  ,   1.  ]]])"
      ]
     },
     "execution_count": 28,
     "metadata": {},
     "output_type": "execute_result"
    }
   ],
   "source": [
    "import os\n",
    "os.getcwd()\n",
    "\n",
    "import sys\n",
    "sys.argv\n",
    "\n",
    "import numpy as np\n",
    "from numpy import linalg\n",
    "\n",
    "stress_tensor_2 = np.array([[1.0,   0.0, 9.23],\n",
    "                            [0.0, -15.0,  0.0],\n",
    "                            [9.23,  0.0,  0.0]])\n",
    "\n",
    "stress_hist_2 = np.array([stress_tensor_2, stress_tensor_2 + 1])\n",
    "stress_hist_2"
   ]
  },
  {
   "cell_type": "markdown",
   "metadata": {},
   "source": [
    "Käytetään hyviksi havaittuja työkaluja, ja ratkaistaan yhtälöryhmä tehtävä:\n",
    "\n",
    "$Ax = b \\rightarrow x = A^{-1}b$\n",
    " \n"
   ]
  },
  {
   "cell_type": "code",
   "execution_count": 29,
   "metadata": {
    "collapsed": false
   },
   "outputs": [
    {
     "data": {
      "text/plain": [
       "array([ 0.82142857, -0.39285714,  0.32142857])"
      ]
     },
     "execution_count": 29,
     "metadata": {},
     "output_type": "execute_result"
    }
   ],
   "source": [
    "A = np.array([[1,2,3],\n",
    "              [5,7,2],\n",
    "              [4,4,4]])\n",
    "\n",
    "b = np.array([1,2,3])\n",
    "\n",
    "linalg.solve(A, b)"
   ]
  },
  {
   "cell_type": "markdown",
   "metadata": {},
   "source": [
    "\n",
    "### for loopit\n",
    "\n",
    "\n",
    "for -looppi koostuu:\n",
    "\n",
    "        - \"for\" sanasta, joka aloittaa loopin\n",
    "        - muuttujasta/muuttujista, jolla iteroidaan lista läpi\n",
    "        - \"in\" sana\n",
    "        - listasta, jota iteroidaan\n",
    "        - loppuun kaksoispiste : -merkki\n",
    "        - Seuraavalla rivillä tulee huomioida white space intentation"
   ]
  },
  {
   "cell_type": "code",
   "execution_count": 30,
   "metadata": {
    "collapsed": false
   },
   "outputs": [
    {
     "name": "stdout",
     "output_type": "stream",
     "text": [
      "0\n",
      "1\n",
      "2\n",
      "3\n",
      "4\n",
      "5\n",
      "6\n",
      "7\n",
      "8\n",
      "9\n",
      "10\n",
      "11\n",
      "12\n",
      "13\n",
      "14\n",
      "15\n",
      "16\n",
      "17\n",
      "18\n",
      "19\n"
     ]
    }
   ],
   "source": [
    "iteration_list = range(20)\n",
    "\n",
    "for i in iteration_list:\n",
    "    print(i)"
   ]
  },
  {
   "cell_type": "code",
   "execution_count": 31,
   "metadata": {
    "collapsed": false
   },
   "outputs": [
    {
     "name": "stdout",
     "output_type": "stream",
     "text": [
      "*_*\n",
      "  *_*\n",
      "    *_*\n",
      "      *_*\n",
      "*_*\n",
      "  *_*\n",
      "    *_*\n",
      "      *_*\n",
      "*_*\n",
      "  *_*\n",
      "    *_*\n",
      "      *_*\n",
      "*_*\n",
      "  *_*\n",
      "    *_*\n",
      "      *_*\n",
      "*_*\n",
      "  *_*\n",
      "    *_*\n",
      "      *_*\n"
     ]
    }
   ],
   "source": [
    "for each in iteration_list:\n",
    "    spaces = each % 4\n",
    "    print_word = (\" \" * 2 *  spaces) + \"*_*\"\n",
    "    print(print_word)"
   ]
  },
  {
   "cell_type": "code",
   "execution_count": 32,
   "metadata": {
    "collapsed": false
   },
   "outputs": [],
   "source": [
    "def sigmoid(x):\n",
    "    \"\"\"\n",
    "    https://en.wikipedia.org/wiki/Sigmoid_function\n",
    "    \"\"\"\n",
    "    return 1. / (1 + np.exp(-x))\n",
    "\n",
    "input_arvot = np.random.rand(1000)\n",
    "output_arvot = np.zeros(1000)\n",
    "\n",
    "for idx, each in enumerate(input_arvot):\n",
    "    output_arvot[idx] = sigmoid(each)\n"
   ]
  },
  {
   "cell_type": "code",
   "execution_count": 33,
   "metadata": {
    "collapsed": false
   },
   "outputs": [
    {
     "name": "stdout",
     "output_type": "stream",
     "text": [
      "Jäbän nimi on Olli ja on nähnyt 27 talvea\n",
      "Jäbän nimi on Lassi ja on nähnyt 25 talvea\n",
      "Jäbän nimi on Vili ja on nähnyt 21 talvea\n",
      "Jäbän nimi on Jori ja on nähnyt 18 talvea\n"
     ]
    }
   ],
   "source": [
    "nimet = [\"Olli\", \"Lassi\", \"Vili\", \"Jori\"]\n",
    "iat = [27, 25, 21, 18]\n",
    "for nimi, ika in zip(nimet, iat):\n",
    "    print(\"Jäbän nimi on %s ja on nähnyt %i talvea\" % (nimi, ika))"
   ]
  },
  {
   "cell_type": "markdown",
   "metadata": {},
   "source": [
    "## while loopit ja ehtolauseet\n"
   ]
  },
  {
   "cell_type": "code",
   "execution_count": 34,
   "metadata": {
    "collapsed": false
   },
   "outputs": [
    {
     "name": "stdout",
     "output_type": "stream",
     "text": [
      "== print nro. 0 0\n",
      "== print nro. 1 -1\n",
      "-- ei viela raja rikki\n",
      "++ looppi jatkuu\n",
      "== print nro. 2 -2\n",
      "-- ei viela raja rikki\n",
      "++ looppi jatkuu\n",
      "== print nro. 3 -3\n",
      "++ looppi jatkuu\n",
      "== print nro. 4 -10\n",
      "-- ei viela raja rikki\n",
      "++ looppi jatkuu\n",
      "== print nro. 5 -11\n",
      "-- ei viela raja rikki\n",
      "++ looppi jatkuu\n",
      "== print nro. 6 -12\n",
      "-- ei viela raja rikki\n",
      "++ looppi jatkuu\n",
      "== print nro. 7 -13\n"
     ]
    }
   ],
   "source": [
    "import time\n",
    "\n",
    "plussaa = 0\n",
    "miinusta = 0\n",
    "while True:\n",
    "    print(\"== print nro. %i %i\" % (plussaa, miinusta))\n",
    "    time.sleep(1)\n",
    "    plussaa += 1\n",
    "    miinusta -= 1\n",
    "    \n",
    "    if plussaa > 7:\n",
    "        break\n",
    "    \n",
    "    if miinusta > -2:\n",
    "        continue\n",
    "        \n",
    "    elif miinusta == -4:\n",
    "        miinusta = -10\n",
    "        \n",
    "    else:\n",
    "        print(\"-- ei viela raja rikki\")\n",
    "    \n",
    "    print(\"++ looppi jatkuu\")"
   ]
  },
  {
   "cell_type": "markdown",
   "metadata": {},
   "source": [
    "# Tehtäviä"
   ]
  },
  {
   "cell_type": "markdown",
   "metadata": {},
   "source": [
    "## Funktio, kirjasto ja loop tehtävät\n",
    "\n",
    "Jotta saataisiin jotain järkevän oloisia tehtäviä, niin yhdistellään nyt kaikkea opittua!\n",
    "\n",
    "1. Luo funktio, joka palauttaa normeeratun vektorin ja palauttaa sen pituuden\n",
    "\n",
    "2. Luo funktio, jolla voi laskea hydrostaattisen jännityksen: $\\sigma_{hyd} = \\frac{1}{3}tr(\\sigma)I$ sekä deviaattorijännityksen: $\\sigma_{dev} = \\sigma - \\sigma_{hyd}$\n",
    "    - Apuja:\n",
    "        * trace operaatio (tr) löytyy numpy.trace\n",
    "        * yksikkövektorin voi luoda numpy.eye -komennolla\n",
    "\n",
    "3. Ratkaise ongelma: https://projecteuler.net/problem=1\n",
    "\n",
    "4. Ratkaise ongelma: http://www.pythonchallenge.com/pc/def/map.html\n",
    "    - Apuja:\n",
    "        - kirjaimen voi muuttaa numeroksi ord -funktiolla\n",
    "        - numeron voi muuttaa kirjaimeksi chr -funktiolla\n",
    "        - chr(97) == 'a'\n",
    "        - chr(122) == 'z'"
   ]
  },
  {
   "cell_type": "code",
   "execution_count": 35,
   "metadata": {
    "collapsed": false
   },
   "outputs": [
    {
     "ename": "SyntaxError",
     "evalue": "invalid syntax (<ipython-input-35-ddab250d8e77>, line 6)",
     "output_type": "error",
     "traceback": [
      "\u001b[1;36m  File \u001b[1;32m\"<ipython-input-35-ddab250d8e77>\"\u001b[1;36m, line \u001b[1;32m6\u001b[0m\n\u001b[1;33m    def deviatoric_stress(tensor)\u001b[0m\n\u001b[1;37m                                 ^\u001b[0m\n\u001b[1;31mSyntaxError\u001b[0m\u001b[1;31m:\u001b[0m invalid syntax\n"
     ]
    }
   ],
   "source": [
    "# Tehtävään 1 aihio\n",
    "def vektor_norm_and_len(vector):\n",
    "    return normed_vector, pituus\n",
    "\n",
    "# Tehtävään 2 aihio\n",
    "def deviatoric_stress(tensor)\n",
    "    return \n",
    "\n",
    "\n",
    "test_vector = np.array([6.3, 9.414, 23.])\n",
    "\n",
    "test_tensor = np.array([[13.2, 45.2, 0.1],\n",
    "                        [45.2, 22.98, 2.2],\n",
    "                        [0.1, 2.2, -0.41]])"
   ]
  },
  {
   "cell_type": "markdown",
   "metadata": {},
   "source": [
    "# Osa 3"
   ]
  },
  {
   "cell_type": "markdown",
   "metadata": {},
   "source": [
    "\n",
    "## Virheenkäsittely\n",
    "\n",
    "https://docs.python.org/2/tutorial/errors.html\n",
    "\n",
    "https://wiki.python.org/moin/HandlingExceptions\n"
   ]
  },
  {
   "cell_type": "code",
   "execution_count": null,
   "metadata": {
    "collapsed": false
   },
   "outputs": [],
   "source": [
    "a = 1\n",
    "try:\n",
    "    c = a + \"b\"\n",
    "except TypeError:\n",
    "    print(\"Can't multiply integer and string\")\n",
    "finally:\n",
    "    if a == 1:\n",
    "        a = 2\n"
   ]
  },
  {
   "cell_type": "code",
   "execution_count": null,
   "metadata": {
    "collapsed": false
   },
   "outputs": [],
   "source": [
    "def only_above_ten(x):\n",
    "    if abs(x) < 10:\n",
    "        raise Exception(\"Given number's abs value is less than 10\")\n",
    "    return x ** 2\n",
    "\n",
    "def get_dict_value(dictionary):\n",
    "    value = 0\n",
    "    try:\n",
    "        value = dictionary[\"some_value\"]\n",
    "    except KeyError:\n",
    "        value = None\n",
    "    return value\n",
    "\n",
    "only_above_ten(1)\n",
    "only_above_ten(-11)\n",
    "\n",
    "a = {\"a\": 1}\n",
    "get_dict_value(a)"
   ]
  },
  {
   "cell_type": "markdown",
   "metadata": {},
   "source": [
    "## List comprehension\n",
    "\n",
    "Yleensä pythonissa käytetään paljon listoja ja niiden luominen looppaamalla on yleensä pienen jumpan takan. Tästä syystä löytyy \"list comprehension\" tekniikka, jolla voidaan yhdellä rivillä luoda listoja kätevästi."
   ]
  },
  {
   "cell_type": "code",
   "execution_count": null,
   "metadata": {
    "collapsed": false
   },
   "outputs": [],
   "source": [
    "a = [x for x in range(10)]\n",
    "\n",
    "b = [sigmoid(x) for x in input_arvot]\n",
    "\n",
    "c = [x ** 2 if x > 10 else x for x in range(20)]"
   ]
  },
  {
   "cell_type": "markdown",
   "metadata": {},
   "source": [
    "## File IO\n",
    "\n",
    "Yleensä dataa on paljon, eikä sen käsin-naputtelu ole vaihtoehto. Tällöin voidaan data lukea suoraan tiedostosta, jonka jälkeen voidaan käsitellä sitä eteenpäin\n",
    "\n",
    "https://docs.python.org/2/tutorial/inputoutput.html\n",
    "\n",
    "http://www.tutorialspoint.com/python/python_files_io.htm\n"
   ]
  },
  {
   "cell_type": "code",
   "execution_count": null,
   "metadata": {
    "collapsed": true
   },
   "outputs": [],
   "source": [
    "# Perus esimerkki tiedoston kirjoittamisesta\n",
    "\n",
    "my_file = open(\"my_test_file.txt\", \"w\")\n",
    "\n",
    "for i in range(100):\n",
    "    spaces = i % 7\n",
    "    print_word = (\" \" * 2 *  spaces) + \"*_*\" + \"\\n\"\n",
    "    my_file.write(print_word)\n",
    "    \n",
    "my_file.close()"
   ]
  },
  {
   "cell_type": "code",
   "execution_count": 36,
   "metadata": {
    "collapsed": true
   },
   "outputs": [],
   "source": [
    "# parempi/turvallisempi tyyli\n",
    "\n",
    "with open(\"my_test_file.txt\", \"w\") as my_file:\n",
    "    for i in range(100):\n",
    "        spaces = i % 7\n",
    "        print_word = (\" \" * 2 *  spaces) + \"*_*\" + \"\\n\"\n",
    "        my_file.write(print_word)\n"
   ]
  },
  {
   "cell_type": "code",
   "execution_count": 37,
   "metadata": {
    "collapsed": false
   },
   "outputs": [],
   "source": [
    "import numpy as np\n",
    "\n",
    "with open(\"people_mass_and_vertical_width.csv\", \"w\") as f:\n",
    "    f.write(\"specimen_id,mass,vertical_width\\n\")\n",
    "    \n",
    "    # http://docs.scipy.org/doc/numpy-1.10.1/reference/generated/numpy.random.normal.html\n",
    "    weight = [np.random.normal(70, scale=5) for each in np.arange(1250)]\n",
    "    height = [np.random.normal(170, scale=10) for each in np.arange(1250)]\n",
    "    for idx, vals in enumerate(zip(weight, height)):\n",
    "        w, h = vals\n",
    "        sana = \"{0},{1},{2}\\n\".format(idx, w, h)\n",
    "        f.write(sana)"
   ]
  },
  {
   "cell_type": "code",
   "execution_count": 38,
   "metadata": {
    "collapsed": true
   },
   "outputs": [],
   "source": [
    "# Perus esimerkki tiedoston lukemisesta\n",
    "# aloitetaan suorilta turvallisemmalla tavalla\n",
    "\n",
    "with open(\"people_mass_and_vertical_width.csv\", \"r\") as f:\n",
    "    mass_width = f.readlines()"
   ]
  },
  {
   "cell_type": "code",
   "execution_count": 39,
   "metadata": {
    "collapsed": false
   },
   "outputs": [
    {
     "name": "stdout",
     "output_type": "stream",
     "text": [
      "('*', ' ', 0)\n",
      "('_', ' ', 1)\n",
      "('*', ' ', 2)\n",
      "('\\n', ' ', 3)\n"
     ]
    }
   ],
   "source": [
    "with open(\"my_test_file.txt\", \"r\") as f:\n",
    "    i  = 0\n",
    "    for each in f.readline():\n",
    "        print(each, \" \", i)\n",
    "        i += 1"
   ]
  },
  {
   "cell_type": "code",
   "execution_count": 40,
   "metadata": {
    "collapsed": false
   },
   "outputs": [],
   "source": [
    "pituus = len(mass_width)\n",
    "np_mass_width = np.zeros((pituus, 3), dtype=float)\n",
    "\n",
    "for row_idx, each in enumerate(mass_width[1:]):\n",
    "    no_escape_sight = each.replace(\"\\n\", \"\")\n",
    "    p_id, p_mass, p_width = no_escape_sight.split(\",\")\n",
    "    for col_idx, val in enumerate([p_id, p_mass, p_width]):\n",
    "        np_mass_width[row_idx, col_idx] = float(val)"
   ]
  },
  {
   "cell_type": "markdown",
   "metadata": {},
   "source": [
    "## Oliot (eng. Object)\n",
    "\n",
    "Tässä kohtaa voidaan huomata, että olemme pitkälti käyttäneet vain muuttujia, joilla on ollut jokin arvo ja funktioita, jotka tekevät jotain temppuja. Sana \"olio\" / \"class\" / \"object\" kuullostaa hurjalta. Käytännössä se on kuitenkin vain muuttuja, jolla on arvoja sekä funktioita. Olion vahvuutena on, että se voi periä ominaisuuksia muita olioilta, kuten jälkimmäisessä esimerkissä nähdään.\n",
    "\n",
    "Tyylijuttuja:\n",
    "> \n",
    "- Luokan nimi yleensä isolla (voi helpomin tunnistaa funktiot ja oliot)\n",
    "- Luokalla tulee olla $__init__$ funktio (constructor) joka luo olion\n",
    "- Luokan funktioita kutsutaan metodeiksi\n",
    "\n",
    "\n",
    "### Referenssiä:\n",
    "\n",
    "https://docs.python.org/2/tutorial/classes.html\n",
    "\n",
    "http://www.tutorialspoint.com/python/python_classes_objects.htm\n",
    "\n",
    "http://stackoverflow.com/questions/576169/understanding-python-super-with-init-methods"
   ]
  },
  {
   "cell_type": "code",
   "execution_count": 41,
   "metadata": {
    "collapsed": false
   },
   "outputs": [],
   "source": [
    "class Example(object):\n",
    "    \n",
    "    def __init__(self, x):\n",
    "        self.x = x\n",
    "\n",
    "eka_luokka = Example(1)"
   ]
  },
  {
   "cell_type": "code",
   "execution_count": 42,
   "metadata": {
    "collapsed": true
   },
   "outputs": [],
   "source": [
    "import time\n",
    "\n",
    "class Auto(object):\n",
    "    \n",
    "    def __init__(self, merkki, ostopaiva, ajettuja_kilometreja_ostopaivana):\n",
    "        \"\"\" Auton constructor\n",
    "        \n",
    "        Parameters\n",
    "        ---------\n",
    "        merkki: string\n",
    "            Auton merkki\n",
    "        ostopaiva: float\n",
    "            Auton ostopäivä liukulukuna\n",
    "        ajettuja_kilometreja_ostopaivana: int or float\n",
    "            Ajettuja kilometreja\n",
    "        \"\"\"\n",
    "        self.brand = merkki\n",
    "        self.b_time = ostopaiva\n",
    "        self.b_matka = ajettuja_kilometreja_ostopaivana\n",
    "    \n",
    "    def omistettu_aika(self):\n",
    "        print(\"Olet omistanut auton: {0:.2f} sekuntia\".format(time.time()- self.b_time))\n",
    "    \n",
    "    def paljon_ajettu_nyt(self, uusi_luku):\n",
    "        self.current_matka = uusi_luku - self.b_matka\n",
    "        print(\"Olet ajanut autolla {0:.2f} yksikkoa\".format(self.current_matka))\n",
    "        return self.current_matka\n",
    "    \n",
    "    def matka(self, speed, matka):\n",
    "        print(\"Jos olisit ajanut kokoajan tätä nopeutta, matkaa tulisi: %f km\" % (speed * matka))\n",
    "        \n",
    "my_volvo = Auto(\"volvo\", time.time(), 200000.)"
   ]
  },
  {
   "cell_type": "code",
   "execution_count": 43,
   "metadata": {
    "collapsed": false
   },
   "outputs": [],
   "source": [
    "# Esimerkki, jossa käytetään perintää (inheritance)\n",
    "\n",
    "class ToyotaKilpaAuto(Auto):\n",
    "    \n",
    "    def __init__(self):\n",
    "        super(ToyotaKilpaAuto, self).__init__(\"Toyota\", time.time(), 0.0)\n",
    "    \n",
    "    def nopeus(self, x):\n",
    "        self.speed = x\n",
    "        self.matka(self.speed, self.current_matka)"
   ]
  },
  {
   "cell_type": "code",
   "execution_count": 44,
   "metadata": {
    "collapsed": false
   },
   "outputs": [],
   "source": [
    "aa = ToyotaKilpaAuto()"
   ]
  },
  {
   "cell_type": "code",
   "execution_count": 45,
   "metadata": {
    "collapsed": false
   },
   "outputs": [
    {
     "data": {
      "text/plain": [
       "'Toyota'"
      ]
     },
     "execution_count": 45,
     "metadata": {},
     "output_type": "execute_result"
    }
   ],
   "source": [
    "aa.brand"
   ]
  },
  {
   "cell_type": "code",
   "execution_count": 46,
   "metadata": {
    "collapsed": false
   },
   "outputs": [
    {
     "name": "stdout",
     "output_type": "stream",
     "text": [
      "Olet ajanut autolla 10000.00 yksikkoa\n"
     ]
    },
    {
     "data": {
      "text/plain": [
       "10000.0"
      ]
     },
     "execution_count": 46,
     "metadata": {},
     "output_type": "execute_result"
    }
   ],
   "source": [
    "my_volvo.paljon_ajettu_nyt(210000.)"
   ]
  },
  {
   "cell_type": "code",
   "execution_count": 47,
   "metadata": {
    "collapsed": false
   },
   "outputs": [
    {
     "name": "stdout",
     "output_type": "stream",
     "text": [
      "Olet ajanut autolla 210000.00 yksikkoa\n",
      "Jos olisit ajanut kokoajan tätä nopeutta, matkaa tulisi: 2520000.000000 km\n"
     ]
    }
   ],
   "source": [
    "aa.paljon_ajettu_nyt(210000.)\n",
    "aa.nopeus(12.)"
   ]
  },
  {
   "cell_type": "markdown",
   "metadata": {},
   "source": [
    "# Vikat Tehtävät!!!"
   ]
  },
  {
   "cell_type": "markdown",
   "metadata": {},
   "source": [
    "## Virheenkäsittely, File IO ja Oliot"
   ]
  },
  {
   "cell_type": "markdown",
   "metadata": {
    "collapsed": true
   },
   "source": [
    "## Virheenkäsittely:\n",
    "\n",
    "1. Luo funktio (johon tulee yksi argumentti), ja tarkistaa että annettu muuttuja on numero (float tai int). Jos argumentti on jotain muuta, nostetaan virheilmoitus. Muutoin funktio palauttaa arvon itseisarvon. Katso sopiva virheilmoitus: https://docs.python.org/2/library/exceptions.html\n"
   ]
  },
  {
   "cell_type": "code",
   "execution_count": null,
   "metadata": {
    "collapsed": true
   },
   "outputs": [],
   "source": []
  },
  {
   "cell_type": "markdown",
   "metadata": {},
   "source": [
    "'2. Lisää tarpeelliset virheenkäsittelyt seuraavaan koodiin:"
   ]
  },
  {
   "cell_type": "code",
   "execution_count": null,
   "metadata": {
    "collapsed": true
   },
   "outputs": [],
   "source": [
    "# Handle all the exceptions!\n",
    "#Setup\n",
    "actor = {\"name\": \"John Cleese\", \"rank\": \"awesome\"}\n",
    "\n",
    "#Function to modify, should return the last name of the actor - think back to previous lessons for how to get it\n",
    "def get_last_name():\n",
    "    return actor[\"last_name\"]\n",
    "\n",
    "#Test code\n",
    "get_last_name()\n",
    "print \"All exceptions caught! Good job!\"\n",
    "print \"The actor's last name is %s\" % get_last_name()"
   ]
  },
  {
   "cell_type": "markdown",
   "metadata": {},
   "source": [
    "## File IO\n",
    "\n",
    "Saatavilla on Tiedo yhtiön pörssidata. Täydennä read_tieto_data -funktio, jossa luet \"tieto_porssi_data_all.txt\" tiedostosta koko historian päivän sulkemishinnan ja plot:taa se näytölle.\n",
    "\n",
    "http://www.kauppalehti.fi/5/i/porssi/porssikurssit/osake/index.jsp?klid=1033"
   ]
  },
  {
   "cell_type": "code",
   "execution_count": 68,
   "metadata": {
    "collapsed": false
   },
   "outputs": [
    {
     "data": {
      "image/png": "[encoded data removed]",
      "text/plain": [
       "<matplotlib.figure.Figure at 0x8aaf6d8>"
      ]
     },
     "metadata": {},
     "output_type": "display_data"
    }
   ],
   "source": [
    "import matplotlib.pyplot as plt\n",
    "import matplotlib\n",
    "%matplotlib inline\n",
    "\n",
    "def read_tieto_data():\n",
    "    filename = \"tieto_porssi_data_all.txt\"\n",
    "    closing_prices = []\n",
    "    # \n",
    "    \n",
    "    return closing_prices\n",
    "\n",
    "prices = read_tieto_data()\n",
    "plt.plot(prices)\n",
    "plt.show()"
   ]
  },
  {
   "cell_type": "markdown",
   "metadata": {},
   "source": [
    "## Olio\n",
    "\n",
    "Luo \"Sortter\" luokka, jonka tarkoituksena on lajitella listan numerot suuruus/pienuus järjestyksessä. Speksit:\n",
    "- Luokka ottaa constructorissa yhden argumentin. Argumentin tyyppi tulee olla lista ja se tallennetaan muuttujaan self.var .  \n",
    "- Luo metodit \"sort\" ja \"sort_reverse\". Metodit eivät ota mitään argumentteja. \n",
    "- Sort -metodissa self.var muuttujassa oleva lista järjestellään suuruus järjestyksessä pienimmästä suurimpaan. \n",
    "- Älä käytä listan omaa sort komentoa, vaan tarkoituksena on myös ratkaista kuinka lista järjestellään. \n",
    "- Sort_reverse järjestellään taas suurimmasta pienimpään. Molemmat metodit palauttavat järjestetyn listan."
   ]
  },
  {
   "cell_type": "code",
   "execution_count": null,
   "metadata": {
    "collapsed": true
   },
   "outputs": [],
   "source": [
    "\n",
    "    \n"
   ]
  },
  {
   "cell_type": "markdown",
   "metadata": {},
   "source": [
    "ja mindblow: kaikki on pythonissa olioita!\n",
    "\n",
    "## Yleistä, minne tästä ja kysymyksiä?\n",
    "\n",
    "Paniikki! Onko lisää materiaalia, josta katsoa esimerkkejä ja neuvoja?\n",
    "\n",
    "http://www.learnpython.org/\n",
    "\n",
    "http://learnpythonthehardway.org/book/\n",
    "\n",
    "https://www.codecademy.com/learn/python\n",
    "\n",
    "https://www.codementor.io/learn-python-online\n",
    "\n",
    "http://docs.python-guide.org/en/latest/intro/learning/\n",
    "\n",
    "https://developers.google.com/edu/python/?csw=1\n",
    "\n",
    "Hyviä sivustoja:\n",
    "\n",
    "http://stackoverflow.com/ , Jokaisen koodarin tärkein sivusto, kun on ongelmien edessä\n",
    "\n",
    "http://github.com , Sivusto, jossa jaetaan koodia / kirjastoja\n",
    "\n",
    "https://projecteuler.net/ , Matematiikkaan liittyviä ongelmia\n",
    "\n",
    "http://adventofcode.com/ , Jouluinen koodaus adventtikalenteri, paljon erilaisia ongelmia. Osa helpompia, osa vaativampia\n",
    "\n",
    "http://hackaday.com/ , Täynnä erilaisia projekteja. Enemmän embedded software juttuja, mutta saa hyviä ideoita\n",
    "\n"
   ]
  },
  {
   "cell_type": "markdown",
   "metadata": {},
   "source": [
    "### Esimerkkitiedoston ulkonäkö\n",
    "Python koodien tekemisessä yleinen tapa on jakaa tiedosto kahteen osaan: funktio ja olio määrittelyyn sekä ajo-osaan. Tällä järjestelyllä voidaan import:ata omia funktioita toiseen python tiedostoon ilman, että ajetaan koodia lävitse"
   ]
  },
  {
   "cell_type": "code",
   "execution_count": null,
   "metadata": {
    "collapsed": false
   },
   "outputs": [],
   "source": [
    "# -*- coding: utf-8 -*-\n",
    "import numpy as np\n",
    "\n",
    "class Test(object):\n",
    "    \n",
    "    def __init__(self, x):\n",
    "        self.x = x\n",
    "        \n",
    "    def multiply_with_x(self, num):\n",
    "        return self.x * num\n",
    "\n",
    "def test_f(olio, numero):\n",
    "    # Alternative solutions\n",
    "    # 1\n",
    "    value = olio.x * numero\n",
    "    \n",
    "    # 2\n",
    "    #value = olio.multiply_with_x(numero)\n",
    "    \n",
    "    pow_2 = value ** 2\n",
    "    return np.floor(pow_2)\n",
    "\n",
    "# Yläpuolella on määrittely osa ja if:n jälkeen alkaa ajo-osa\n",
    "\n",
    "if __name__ == '__main__':\n",
    "    olio = Test(842.52)\n",
    "    test_f(olio, 19.53)"
   ]
  },
  {
   "cell_type": "markdown",
   "metadata": {},
   "source": [
    "### Scoping\n",
    "\n",
    "Scoping:illa tarkoitetaan nimiavaruutta, jossa muuttujat sijaitsevat. Nimiavaruudet:\n",
    "\n",
    "* #### Local\n",
    "    * Names assigned in any way within a function (def or lambda)), and not declared global in that function.\n",
    "* #### Enclosing function locals\n",
    "    * Name in the local scope of any and all enclosing functions (def or lambda), from inner to outer.\n",
    "* #### Global (module)\n",
    "    * Names assigned at the top-level of a module file, or declared global in a def within the file.\n",
    "* #### Built-in (Python)\n",
    "    * Names preassigned in the built-in names module : open,range,SyntaxError,..\n",
    "\n",
    "Referenssiä:\n",
    "\n",
    "http://stackoverflow.com/questions/291978/short-description-of-python-scoping-rules"
   ]
  },
  {
   "cell_type": "code",
   "execution_count": null,
   "metadata": {
    "collapsed": false
   },
   "outputs": [],
   "source": [
    "# global muuttuja\n",
    "x = 1\n",
    "\n",
    "def print_local_x():\n",
    "    # local muuttuja\n",
    "    x = 3\n",
    "    print(\"local muuttuja %i\" % x)\n",
    "    return \"Done\"\n",
    "\n",
    "print_local_x(), x"
   ]
  },
  {
   "cell_type": "code",
   "execution_count": null,
   "metadata": {
    "collapsed": false
   },
   "outputs": [],
   "source": [
    "# global muuttuja\n",
    "x = 1\n",
    "\n",
    "def print_global_x():\n",
    "    # referoidaan global muuttujaan\n",
    "    global x\n",
    "    x += 10\n",
    "    print(x)\n",
    "    return \"Done\"\n",
    "\n",
    "print_global_x(), x"
   ]
  },
  {
   "cell_type": "code",
   "execution_count": null,
   "metadata": {
    "collapsed": false
   },
   "outputs": [],
   "source": [
    "class Test(object):\n",
    "    \n",
    "    def __init__(self):\n",
    "        self.x = 10\n",
    "\n",
    "def print_olio_x():\n",
    "    print(olio.x)\n",
    "    return \"Done\"\n",
    "\n",
    "olio = Test()\n",
    "print_olio_x()"
   ]
  },
  {
   "cell_type": "code",
   "execution_count": null,
   "metadata": {
    "collapsed": false
   },
   "outputs": [],
   "source": [
    "for i in range(10):\n",
    "    muuttuja = i\n",
    "muuttuja"
   ]
  },
  {
   "cell_type": "markdown",
   "metadata": {},
   "source": [
    "### Rekursiiviset funktiot\n",
    "\n",
    "http://www.python-course.eu/recursive_functions.php\n",
    "\n",
    "Rekursiivisella ohjelmoinnilla tarkoitetaan esim. funktioita, jotka kutsuvat itseään funktion sisällä. Tällänen ohjemlointityyli voi olla käytännöllistä, esim. listojen kanssa. Esimerkissä on luotu kertoman funktio:\n",
    "\n",
    "$ n! = n \\cdot (n-1) \\cdot ... 2 \\cdot 1 $\n",
    "\n",
    "\n",
    "##### Hox hox\n",
    "* Rekursiivinen funktio kutsuu itseään\n",
    "* Rekursiivisella funktiolla pitää olla loputus osa! Muuten jädään loppumattomaan looppiin"
   ]
  },
  {
   "cell_type": "code",
   "execution_count": null,
   "metadata": {
    "collapsed": false
   },
   "outputs": [],
   "source": [
    "def kertoma(n):\n",
    "    if n == 1:\n",
    "        return 1\n",
    "    #elif n < 0:\n",
    "    #    raise RuntimeError(\"Not valid number\")\n",
    "    else:\n",
    "        return n * kertoma(n-1)\n",
    "    \n",
    "kertoma(1)"
   ]
  },
  {
   "cell_type": "markdown",
   "metadata": {},
   "source": [
    "### Currying funktiot\n",
    "\n",
    "Currying funktioilla voidaan esivalmistella funktio, jota sitten käytetään tarpeen vaatiessa"
   ]
  },
  {
   "cell_type": "code",
   "execution_count": null,
   "metadata": {
    "collapsed": false
   },
   "outputs": [],
   "source": [
    "def my_multiply(a, b):\n",
    "    return a * b\n",
    "\n",
    "curry_multiply_with_two = lambda x: my_multiply(x, 2)\n",
    "curry_multiply_with_ten = lambda x: my_multiply(x, 10)\n",
    "curry_multiply_with_minus_one = lambda x: my_multiply(x, -1)"
   ]
  },
  {
   "cell_type": "code",
   "execution_count": null,
   "metadata": {
    "collapsed": false
   },
   "outputs": [],
   "source": [
    "# http://docs.scipy.org/doc/scipy-0.15.1/reference/generated/scipy.optimize.newton.html\n",
    "from scipy.optimize import newton\n",
    "import numpy as np\n",
    "import matplotlib.pyplot as plt\n",
    "%matplotlib inline # Tämä tarvitaan vain, että kuva piirretään selaimeen, eikä erillisenä ikkunana\n",
    "\n",
    "# Luodaan funktio, ja ratkaistaan nollakohta\n",
    "def parabola(x, a, b, c):\n",
    "    return a * x ** 2 + b * x + c\n",
    "\n",
    "my_parabola = lambda x: parabola(x, -10, -2, 1)\n",
    "\n",
    "x_zero = newton(my_parabola, 0.1)\n",
    "print(x_zero)"
   ]
  },
  {
   "cell_type": "code",
   "execution_count": null,
   "metadata": {
    "collapsed": false
   },
   "outputs": [],
   "source": [
    "# Piirretään vielä varmistukseksi kuva funktiosta ja nollakohdasta\n",
    "x_val = np.linspace(-1, 1, 100)\n",
    "y_val = map(lambda x: my_parabola(x), x_val)\n",
    "\n",
    "plt.plot(x_val, y_val)\n",
    "plt.grid()\n",
    "\n",
    "plt.scatter(x_zero, 0.0)"
   ]
  },
  {
   "cell_type": "markdown",
   "metadata": {},
   "source": [
    "### Korkeamman asteen funktiot\n",
    "\n",
    "https://docs.python.org/2/library/functools.html\n",
    "\n",
    "Korkeamman asteen funktiot ovat funktioita, jotka ottavat argumenteiksi funktioita. Seuraavassa esimerkissä nähdään funktio, joka käyttää argumentti funktiota kaikille listan alkioille ja palauttaa uuden listan"
   ]
  },
  {
   "cell_type": "code",
   "execution_count": null,
   "metadata": {
    "collapsed": false
   },
   "outputs": [],
   "source": [
    "def apply_function(f, arr):\n",
    "    return_list = []\n",
    "    for i in arr:\n",
    "        value = f(i)\n",
    "        return_list.append(value)\n",
    "    return return_list\n",
    "\n",
    "def pow_2(x):\n",
    "    return x ** 2\n",
    "\n",
    "args = [1,2,3,4]\n",
    "apply_function(pow_2, args)"
   ]
  },
  {
   "cell_type": "markdown",
   "metadata": {},
   "source": [
    "Kyseinen funktio on jo tehty python builtin -funktioihin nimellä: $map$. Sama esimerkki, mutta käyttämällä map-funktiota ja lambda funktiota "
   ]
  },
  {
   "cell_type": "code",
   "execution_count": null,
   "metadata": {
    "collapsed": false
   },
   "outputs": [],
   "source": [
    "map(lambda x: x ** 2, args)"
   ]
  },
  {
   "cell_type": "markdown",
   "metadata": {},
   "source": [
    "Muita hyödyllisiä korkeamman asteen funktioita esim: $reduce$ ja $filter$\n",
    "\n",
    "Reduce funktion toiminta:\n",
    "\n",
    "$reduce(f, [a, b, c, d]) = f(a, f(b, f(c, d)))$"
   ]
  },
  {
   "cell_type": "code",
   "execution_count": null,
   "metadata": {
    "collapsed": false
   },
   "outputs": [],
   "source": [
    "from functools import reduce\n",
    "\n",
    "def my_sum(a, b):\n",
    "    return a + b\n",
    "\n",
    "nums = range(10)\n",
    "reduce(my_sum, nums)"
   ]
  },
  {
   "cell_type": "code",
   "execution_count": null,
   "metadata": {
    "collapsed": true
   },
   "outputs": [],
   "source": [
    "from functools import reduce\n",
    "import numpy as np\n",
    "\n",
    "def my_reduce(f, llist, last_val=None):\n",
    "    val = 0\n",
    "    if len(llist) == 2:\n",
    "        return f(llist[1], llist[0])\n",
    "    else:\n",
    "        return f(llist[0], my_reduce(f, llist[1:]))\n",
    "\n",
    "args = [1,2,3,4]\n",
    "pow_sum = reduce(lambda x, y: x + y ** 2, args)"
   ]
  },
  {
   "cell_type": "code",
   "execution_count": null,
   "metadata": {
    "collapsed": false
   },
   "outputs": [],
   "source": [
    "A = np.array([[1,2,3],\n",
    "              [2,5,7],\n",
    "              [3,7,1]])\n",
    "\n",
    "b = np.array([4,5,6]).T\n",
    "\n",
    "reduce(np.dot, [b.T, A, b])"
   ]
  },
  {
   "cell_type": "code",
   "execution_count": null,
   "metadata": {
    "collapsed": false
   },
   "outputs": [],
   "source": [
    "vals = np.arange(15)\n",
    "\n",
    "filter(lambda x: x < 5, vals)"
   ]
  },
  {
   "cell_type": "code",
   "execution_count": null,
   "metadata": {
    "collapsed": true
   },
   "outputs": [],
   "source": [
    "words = \"\"\"'Lorem ipsum dolor sit amet, consectetur adipiscing elit. Vestibulum non neque scelerisque, tincidunt mi et, pu\n",
    "lvinar nibh. Suspendisse placerat augue vitae lectus tristique luctus. Vestibulum ante ipsum primis in faucibus orci luc\n",
    "tus et ultrices posuere cubilia Curae; Maecenas malesuada placerat scelerisque. Suspendisse non volutpat enim, ac luctus\n",
    " nibh. Class aptent taciti sociosqu ad litoratorquent per conubia nostra, per inceptos himenaeos. Vivamus euismod eget a\n",
    "rcu vel placerat. Nunc ultricies commodo diam, eget hendreritodio molestie ut.'\"\"\""
   ]
  },
  {
   "cell_type": "code",
   "execution_count": null,
   "metadata": {
    "collapsed": false
   },
   "outputs": [],
   "source": [
    "words"
   ]
  },
  {
   "cell_type": "code",
   "execution_count": null,
   "metadata": {
    "collapsed": true
   },
   "outputs": [],
   "source": [
    "splitted = words.split()\n",
    "filtt = map(lambda x: x.replace(\"\\n\", \"\"), splitted)\n",
    "filtt[56] = \"key_to_life_is_42\""
   ]
  },
  {
   "cell_type": "code",
   "execution_count": null,
   "metadata": {
    "collapsed": false
   },
   "outputs": [],
   "source": [
    "import base64"
   ]
  },
  {
   "cell_type": "code",
   "execution_count": null,
   "metadata": {
    "collapsed": true
   },
   "outputs": [],
   "source": [
    "bases = map(base64.b64encode, filtt)"
   ]
  },
  {
   "cell_type": "code",
   "execution_count": null,
   "metadata": {
    "collapsed": false
   },
   "outputs": [],
   "source": [
    "import numpy as np\n",
    "vals = []\n",
    "for each in bases:\n",
    "    if len(each) < 24:\n",
    "        word= each + \"\".join([chr(np.random.randint(65, 110)) for x in np.arange(24 - len(each))])\n",
    "    else:\n",
    "        word = each\n",
    "    vals.append(word)"
   ]
  },
  {
   "cell_type": "code",
   "execution_count": null,
   "metadata": {
    "collapsed": true
   },
   "outputs": [],
   "source": []
  }
 ],
 "metadata": {
  "kernelspec": {
   "display_name": "Python 2",
   "language": "python",
   "name": "python2"
  },
  "language_info": {
   "codemirror_mode": {
    "name": "ipython",
    "version": 2
   },
   "file_extension": ".py",
   "mimetype": "text/x-python",
   "name": "python",
   "nbconvert_exporter": "python",
   "pygments_lexer": "ipython2",
   "version": "2.7.11"
  }
 },
 "nbformat": 4,
 "nbformat_minor": 0
}
